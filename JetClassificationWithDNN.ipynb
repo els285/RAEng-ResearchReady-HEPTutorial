{
  "nbformat": 4,
  "nbformat_minor": 0,
  "metadata": {
    "colab": {
      "provenance": [],
      "gpuType": "T4"
    },
    "kernelspec": {
      "name": "python3",
      "display_name": "Python 3"
    },
    "language_info": {
      "name": "python"
    },
    "accelerator": "GPU"
  },
  "cells": [
    {
      "cell_type": "markdown",
      "source": [
        "# Jet Classification with DNNs\n",
        "\n",
        "### ML Problem\n",
        "A binary classification problem. There are 100,000 signal and 100,00 background data. Each datapoint consists of 5 features. Build a simple DNN to classify the data. I got an AUC of about 0.88\n",
        "\n",
        "### Super Fast Physics Explanation\n",
        "In collider experiments, certain particles \"turn into jets\" inside our particle detector. We record the jets, and try and work out what particles they came from...\n",
        "\n",
        "Different particles will give rise to jets that look slightly different. Our task here is to classify two different type of jets based on their kinematics. So the signal data are jets from a top quark (one type of particle), and the background gets are from a Higgs boson (a different type of particle).\n"
      ],
      "metadata": {
        "id": "eHyCmvdPGlAS"
      }
    },
    {
      "cell_type": "markdown",
      "source": [
        "## Task Begins...\n",
        "\n",
        "Download the data through the following command, which creates a file called \"jetesDNN.h5\" in `.h5` format (not the most common format in HEP, but the most useful for ML)."
      ],
      "metadata": {
        "id": "pqTvCTAHJMVN"
      }
    },
    {
      "cell_type": "code",
      "execution_count": 1,
      "metadata": {
        "colab": {
          "base_uri": "https://localhost:8080/"
        },
        "collapsed": true,
        "id": "cLkYC9VJ6cET",
        "outputId": "e8d516a5-7e5e-4585-d0a7-b993fb6f6e8c"
      },
      "outputs": [
        {
          "output_type": "stream",
          "name": "stdout",
          "text": [
            "--2025-07-29 10:49:57--  https://cernbox.cern.ch/s/HAsUVTx60u7L7TY/download\n",
            "Resolving cernbox.cern.ch (cernbox.cern.ch)... 128.142.53.35, 128.142.53.28, 137.138.120.151, ...\n",
            "Connecting to cernbox.cern.ch (cernbox.cern.ch)|128.142.53.35|:443... connected.\n",
            "HTTP request sent, awaiting response... 200 OK\n",
            "Length: unspecified [application/octet-stream]\n",
            "Saving to: ‘jetsDNN.h5’\n",
            "\n",
            "jetsDNN.h5              [         <=>        ]  19.08M  10.9MB/s    in 1.7s    \n",
            "\n",
            "2025-07-29 10:50:00 (10.9 MB/s) - ‘jetsDNN.h5’ saved [20004096]\n",
            "\n"
          ]
        }
      ],
      "source": [
        "!wget -O jetsDNN.h5 \"https://cernbox.cern.ch/s/HAsUVTx60u7L7TY/download\""
      ]
    },
    {
      "cell_type": "markdown",
      "source": [
        "Load the data"
      ],
      "metadata": {
        "id": "0Z-TS3_aJgWs"
      }
    },
    {
      "cell_type": "code",
      "source": [
        "import h5py\n",
        "with h5py.File(\"jetsDNN.h5\", \"r\") as f:\n",
        "    signal = f[\"signal\"][:]\n",
        "    bkg   = f[\"bkg\"][:]"
      ],
      "metadata": {
        "id": "OD9GSvajzbOV"
      },
      "execution_count": 4,
      "outputs": []
    },
    {
      "cell_type": "code",
      "source": [
        "signal"
      ],
      "metadata": {
        "colab": {
          "base_uri": "https://localhost:8080/"
        },
        "id": "CqefciKdznMv",
        "outputId": "5e9dbe78-a1ca-4b9f-fa21-db72ddabe7b9"
      },
      "execution_count": 5,
      "outputs": [
        {
          "output_type": "execute_result",
          "data": {
            "text/plain": [
              "array([( 307.9831  , -476.15994,  -96.07892 , 584.1864 , 12),\n",
              "       (  43.037693,  499.05908,  383.76538 , 636.56506, 29),\n",
              "       (-348.2616  , -373.73343, -759.89685 , 922.66266, 15), ...,\n",
              "       ( 738.16614 ,  130.67651,  340.1076  , 857.52234, 37),\n",
              "       (-242.37642 , -466.88412,  213.85106 , 574.1208 , 20),\n",
              "       ( 646.6144  ,  379.4433 ,   56.393726, 766.51166, 20)],\n",
              "      dtype=[('jet_px', '<f4'), ('jet_py', '<f4'), ('jet_pz', '<f4'), ('jet_energy', '<f4'), ('Num_constituents', '<i4')])"
            ]
          },
          "metadata": {},
          "execution_count": 5
        }
      ]
    },
    {
      "cell_type": "markdown",
      "source": [
        "The data is numeric (four floats and one int). The first four values are the momentum and energy of the jet; the last value is the number of particles inside the jet."
      ],
      "metadata": {
        "id": "MzsGdpQVJknR"
      }
    },
    {
      "cell_type": "code",
      "source": [
        "\n",
        "import numpy as np\n",
        "from numpy.lib.recfunctions import structured_to_unstructured\n",
        "Xsig = structured_to_unstructured(signal)\n",
        "Xbkg = structured_to_unstructured(bkg)\n",
        "Ysig = np.ones(Xsig.shape[0])\n",
        "Ybkg = np.zeros(Xbkg.shape[0])"
      ],
      "metadata": {
        "id": "LiwXzcIAzpGB"
      },
      "execution_count": 22,
      "outputs": []
    },
    {
      "cell_type": "code",
      "source": [
        "X = np.concatenate([Xsig, Xbkg], axis=0)\n",
        "Y = np.concatenate([Ysig, Ybkg], axis=0)"
      ],
      "metadata": {
        "id": "J4Nf3dGTzu8x"
      },
      "execution_count": 23,
      "outputs": []
    },
    {
      "cell_type": "code",
      "source": [
        "from sklearn.model_selection import train_test_split\n",
        "\n",
        "# Split into training and testing sets\n",
        "X_train, X_test, Y_train, Y_test = train_test_split(X, Y, test_size=0.2, random_state=42)"
      ],
      "metadata": {
        "id": "w62vF9XDzy5w"
      },
      "execution_count": 10,
      "outputs": []
    },
    {
      "cell_type": "code",
      "source": [
        "from sklearn.preprocessing import StandardScaler\n",
        "scaler = StandardScaler()\n",
        "X_train = scaler.fit_transform(X_train)\n",
        "X_test = scaler.transform(X_test)"
      ],
      "metadata": {
        "id": "uaYJbjzcz0Kz"
      },
      "execution_count": 11,
      "outputs": []
    },
    {
      "cell_type": "code",
      "source": [
        "import torch\n",
        "X_tensor = torch.tensor(X_train, dtype=torch.float32)\n",
        "Y_tensor = torch.tensor(Y_train, dtype=torch.float32)\n",
        "X_test_tensor = torch.tensor(X_test, dtype=torch.float32)\n",
        "Y_test_tensor = torch.tensor(Y_test, dtype=torch.float32)"
      ],
      "metadata": {
        "id": "NTMxhKXZz8IM"
      },
      "execution_count": 14,
      "outputs": []
    },
    {
      "cell_type": "code",
      "source": [
        "import torch.nn as nn\n",
        "model = nn.Sequential(\n",
        "    nn.Linear(X_tensor.shape[1], 128),\n",
        "    nn.ReLU(),\n",
        "    nn.Linear(128, 64),\n",
        "    nn.ReLU(),\n",
        "    nn.Linear(64, 1),\n",
        ")"
      ],
      "metadata": {
        "id": "iGl_X0Vzz2Vt"
      },
      "execution_count": 15,
      "outputs": []
    },
    {
      "cell_type": "code",
      "source": [
        "import torch.optim as optim\n",
        "criterion = nn.BCEWithLogitsLoss()\n",
        "optimizer = optim.Adam(model.parameters(), lr=0.005)"
      ],
      "metadata": {
        "id": "VVilj_LGz5UZ"
      },
      "execution_count": 16,
      "outputs": []
    },
    {
      "cell_type": "code",
      "source": [
        "train_loss = []\n",
        "val_loss = []\n",
        "\n",
        "# Training loop, 50 epochs\n",
        "num_epochs = 50\n",
        "\n",
        "for epoch in range(num_epochs):\n",
        "    model.train()\n",
        "    optimizer.zero_grad()\n",
        "\n",
        "    outputs = model(X_tensor).squeeze()\n",
        "    loss = criterion(outputs, Y_tensor)\n",
        "\n",
        "    loss.backward()\n",
        "    optimizer.step()\n",
        "\n",
        "    train_loss.append(loss.item())\n",
        "\n",
        "    # Validation\n",
        "    model.eval()\n",
        "    with torch.no_grad():\n",
        "        val_outputs = model(X_test_tensor).squeeze()\n",
        "        val_loss_value = criterion(val_outputs, Y_test_tensor)\n",
        "        val_loss.append(val_loss_value.item())\n",
        "\n",
        "    if (epoch + 1) % 1 == 0:\n",
        "        print(f'Epoch [{epoch + 1}/{num_epochs}], Loss: {loss.item():.4f}, Val Loss: {val_loss_value.item():.4f}')"
      ],
      "metadata": {
        "colab": {
          "base_uri": "https://localhost:8080/"
        },
        "id": "L6ZOJ1Jo0CZz",
        "outputId": "051f8963-c477-4e8c-a99d-be7dc9923847"
      },
      "execution_count": 17,
      "outputs": [
        {
          "output_type": "stream",
          "name": "stdout",
          "text": [
            "Epoch [1/100], Loss: 0.6895, Val Loss: 0.6351\n",
            "Epoch [2/100], Loss: 0.6351, Val Loss: 0.5837\n",
            "Epoch [3/100], Loss: 0.5836, Val Loss: 0.5302\n",
            "Epoch [4/100], Loss: 0.5302, Val Loss: 0.4752\n",
            "Epoch [5/100], Loss: 0.4751, Val Loss: 0.4227\n",
            "Epoch [6/100], Loss: 0.4226, Val Loss: 0.3769\n",
            "Epoch [7/100], Loss: 0.3768, Val Loss: 0.3403\n",
            "Epoch [8/100], Loss: 0.3401, Val Loss: 0.3139\n",
            "Epoch [9/100], Loss: 0.3136, Val Loss: 0.2974\n",
            "Epoch [10/100], Loss: 0.2971, Val Loss: 0.2897\n",
            "Epoch [11/100], Loss: 0.2891, Val Loss: 0.2888\n",
            "Epoch [12/100], Loss: 0.2881, Val Loss: 0.2926\n",
            "Epoch [13/100], Loss: 0.2917, Val Loss: 0.2985\n",
            "Epoch [14/100], Loss: 0.2975, Val Loss: 0.3043\n",
            "Epoch [15/100], Loss: 0.3033, Val Loss: 0.3088\n",
            "Epoch [16/100], Loss: 0.3076, Val Loss: 0.3112\n",
            "Epoch [17/100], Loss: 0.3101, Val Loss: 0.3118\n",
            "Epoch [18/100], Loss: 0.3107, Val Loss: 0.3106\n",
            "Epoch [19/100], Loss: 0.3095, Val Loss: 0.3080\n",
            "Epoch [20/100], Loss: 0.3069, Val Loss: 0.3043\n",
            "Epoch [21/100], Loss: 0.3031, Val Loss: 0.2997\n",
            "Epoch [22/100], Loss: 0.2985, Val Loss: 0.2946\n",
            "Epoch [23/100], Loss: 0.2935, Val Loss: 0.2895\n",
            "Epoch [24/100], Loss: 0.2884, Val Loss: 0.2849\n",
            "Epoch [25/100], Loss: 0.2839, Val Loss: 0.2813\n",
            "Epoch [26/100], Loss: 0.2804, Val Loss: 0.2789\n",
            "Epoch [27/100], Loss: 0.2781, Val Loss: 0.2779\n",
            "Epoch [28/100], Loss: 0.2771, Val Loss: 0.2780\n",
            "Epoch [29/100], Loss: 0.2773, Val Loss: 0.2789\n",
            "Epoch [30/100], Loss: 0.2783, Val Loss: 0.2802\n",
            "Epoch [31/100], Loss: 0.2797, Val Loss: 0.2815\n",
            "Epoch [32/100], Loss: 0.2810, Val Loss: 0.2823\n",
            "Epoch [33/100], Loss: 0.2818, Val Loss: 0.2825\n",
            "Epoch [34/100], Loss: 0.2820, Val Loss: 0.2821\n",
            "Epoch [35/100], Loss: 0.2816, Val Loss: 0.2812\n",
            "Epoch [36/100], Loss: 0.2807, Val Loss: 0.2800\n",
            "Epoch [37/100], Loss: 0.2795, Val Loss: 0.2788\n",
            "Epoch [38/100], Loss: 0.2782, Val Loss: 0.2777\n",
            "Epoch [39/100], Loss: 0.2771, Val Loss: 0.2768\n",
            "Epoch [40/100], Loss: 0.2762, Val Loss: 0.2764\n",
            "Epoch [41/100], Loss: 0.2757, Val Loss: 0.2762\n",
            "Epoch [42/100], Loss: 0.2755, Val Loss: 0.2763\n",
            "Epoch [43/100], Loss: 0.2756, Val Loss: 0.2766\n",
            "Epoch [44/100], Loss: 0.2758, Val Loss: 0.2769\n",
            "Epoch [45/100], Loss: 0.2761, Val Loss: 0.2771\n",
            "Epoch [46/100], Loss: 0.2764, Val Loss: 0.2773\n",
            "Epoch [47/100], Loss: 0.2765, Val Loss: 0.2773\n",
            "Epoch [48/100], Loss: 0.2765, Val Loss: 0.2771\n",
            "Epoch [49/100], Loss: 0.2764, Val Loss: 0.2769\n",
            "Epoch [50/100], Loss: 0.2761, Val Loss: 0.2767\n",
            "Epoch [51/100], Loss: 0.2759, Val Loss: 0.2764\n",
            "Epoch [52/100], Loss: 0.2756, Val Loss: 0.2761\n",
            "Epoch [53/100], Loss: 0.2753, Val Loss: 0.2759\n",
            "Epoch [54/100], Loss: 0.2751, Val Loss: 0.2757\n",
            "Epoch [55/100], Loss: 0.2749, Val Loss: 0.2756\n",
            "Epoch [56/100], Loss: 0.2748, Val Loss: 0.2756\n",
            "Epoch [57/100], Loss: 0.2748, Val Loss: 0.2756\n",
            "Epoch [58/100], Loss: 0.2749, Val Loss: 0.2756\n",
            "Epoch [59/100], Loss: 0.2749, Val Loss: 0.2757\n",
            "Epoch [60/100], Loss: 0.2750, Val Loss: 0.2757\n",
            "Epoch [61/100], Loss: 0.2750, Val Loss: 0.2756\n",
            "Epoch [62/100], Loss: 0.2749, Val Loss: 0.2756\n",
            "Epoch [63/100], Loss: 0.2748, Val Loss: 0.2755\n",
            "Epoch [64/100], Loss: 0.2747, Val Loss: 0.2754\n",
            "Epoch [65/100], Loss: 0.2746, Val Loss: 0.2753\n",
            "Epoch [66/100], Loss: 0.2745, Val Loss: 0.2752\n",
            "Epoch [67/100], Loss: 0.2744, Val Loss: 0.2751\n",
            "Epoch [68/100], Loss: 0.2744, Val Loss: 0.2751\n",
            "Epoch [69/100], Loss: 0.2743, Val Loss: 0.2751\n",
            "Epoch [70/100], Loss: 0.2743, Val Loss: 0.2751\n",
            "Epoch [71/100], Loss: 0.2743, Val Loss: 0.2751\n",
            "Epoch [72/100], Loss: 0.2743, Val Loss: 0.2751\n",
            "Epoch [73/100], Loss: 0.2743, Val Loss: 0.2750\n",
            "Epoch [74/100], Loss: 0.2742, Val Loss: 0.2750\n",
            "Epoch [75/100], Loss: 0.2742, Val Loss: 0.2750\n",
            "Epoch [76/100], Loss: 0.2742, Val Loss: 0.2749\n",
            "Epoch [77/100], Loss: 0.2741, Val Loss: 0.2749\n",
            "Epoch [78/100], Loss: 0.2741, Val Loss: 0.2748\n",
            "Epoch [79/100], Loss: 0.2740, Val Loss: 0.2748\n",
            "Epoch [80/100], Loss: 0.2740, Val Loss: 0.2748\n",
            "Epoch [81/100], Loss: 0.2740, Val Loss: 0.2748\n",
            "Epoch [82/100], Loss: 0.2739, Val Loss: 0.2747\n",
            "Epoch [83/100], Loss: 0.2739, Val Loss: 0.2747\n",
            "Epoch [84/100], Loss: 0.2739, Val Loss: 0.2747\n",
            "Epoch [85/100], Loss: 0.2739, Val Loss: 0.2747\n",
            "Epoch [86/100], Loss: 0.2739, Val Loss: 0.2747\n",
            "Epoch [87/100], Loss: 0.2738, Val Loss: 0.2747\n",
            "Epoch [88/100], Loss: 0.2738, Val Loss: 0.2746\n",
            "Epoch [89/100], Loss: 0.2738, Val Loss: 0.2746\n",
            "Epoch [90/100], Loss: 0.2738, Val Loss: 0.2746\n",
            "Epoch [91/100], Loss: 0.2737, Val Loss: 0.2746\n",
            "Epoch [92/100], Loss: 0.2737, Val Loss: 0.2746\n",
            "Epoch [93/100], Loss: 0.2737, Val Loss: 0.2745\n",
            "Epoch [94/100], Loss: 0.2737, Val Loss: 0.2745\n",
            "Epoch [95/100], Loss: 0.2737, Val Loss: 0.2745\n",
            "Epoch [96/100], Loss: 0.2736, Val Loss: 0.2745\n",
            "Epoch [97/100], Loss: 0.2736, Val Loss: 0.2745\n",
            "Epoch [98/100], Loss: 0.2736, Val Loss: 0.2745\n",
            "Epoch [99/100], Loss: 0.2736, Val Loss: 0.2744\n",
            "Epoch [100/100], Loss: 0.2736, Val Loss: 0.2744\n"
          ]
        }
      ]
    },
    {
      "cell_type": "code",
      "source": [
        "# PLot losses\n",
        "import matplotlib.pyplot as plt\n",
        "plt.figure(figsize=(10, 5))\n",
        "plt.plot(train_loss, label='Training Loss')\n",
        "plt.plot(val_loss, label='Validation Loss')\n",
        "plt.xlabel('Epoch')\n",
        "plt.ylabel('Loss')"
      ],
      "metadata": {
        "colab": {
          "base_uri": "https://localhost:8080/",
          "height": 483
        },
        "id": "lRt2Z_OR0Fwx",
        "outputId": "605829ec-91df-4f7d-c077-0dcd9a9786b9"
      },
      "execution_count": 18,
      "outputs": [
        {
          "output_type": "execute_result",
          "data": {
            "text/plain": [
              "Text(0, 0.5, 'Loss')"
            ]
          },
          "metadata": {},
          "execution_count": 18
        },
        {
          "output_type": "display_data",
          "data": {
            "text/plain": [
              "<Figure size 1000x500 with 1 Axes>"
            ],
            "image/png": "[encoded data removed]"
          },
          "metadata": {}
        }
      ]
    },
    {
      "cell_type": "markdown",
      "source": [],
      "metadata": {
        "id": "Ezx00z8UGjKb"
      }
    },
    {
      "cell_type": "code",
      "source": [
        "model.eval()\n",
        "model_output = model(X_test_tensor).detach()\n",
        "output_scores_numpy = torch.sigmoid(model_output).numpy()\n",
        "y_pred = np.round(output_scores_numpy)"
      ],
      "metadata": {
        "id": "Lxv4DvlgCZMS"
      },
      "execution_count": 20,
      "outputs": []
    },
    {
      "cell_type": "code",
      "source": [
        "from sklearn.metrics import roc_auc_score\n",
        "\n",
        "roc_auc_score(Y_test.reshape(-1,1),y_pred)"
      ],
      "metadata": {
        "colab": {
          "base_uri": "https://localhost:8080/"
        },
        "id": "Xc47IgPdCbpa",
        "outputId": "4da1aab8-7d49-40fa-bbc6-ff73242c52ad"
      },
      "execution_count": 21,
      "outputs": [
        {
          "output_type": "execute_result",
          "data": {
            "text/plain": [
              "np.float64(0.888600362967346)"
            ]
          },
          "metadata": {},
          "execution_count": 21
        }
      ]
    },
    {
      "cell_type": "code",
      "source": [],
      "metadata": {
        "id": "GLoPgKOkCpZf"
      },
      "execution_count": null,
      "outputs": []
    }
  ]
}