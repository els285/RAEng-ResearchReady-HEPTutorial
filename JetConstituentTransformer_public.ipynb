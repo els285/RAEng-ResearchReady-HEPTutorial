{
  "nbformat": 4,
  "nbformat_minor": 0,
  "metadata": {
    "colab": {
      "provenance": [],
      "collapsed_sections": [
        "Bgso45ZBQXYT",
        "_OQS2bWg8zEw"
      ],
      "gpuType": "T4"
    },
    "kernelspec": {
      "name": "python3",
      "display_name": "Python 3"
    },
    "language_info": {
      "name": "python"
    },
    "accelerator": "GPU"
  },
  "cells": [
    {
      "cell_type": "markdown",
      "source": [
        "# Transformer for Jet Classification\n",
        "\n",
        "This task uses a different dataset. Each datapoint is 20 separate particles (a subset of the particles which make up the event)."
      ],
      "metadata": {
        "id": "Bgso45ZBQXYT"
      }
    },
    {
      "cell_type": "code",
      "source": [
        "import h5py\n",
        "import numpy as np\n",
        "from numpy.lib.recfunctions import structured_to_unstructured"
      ],
      "metadata": {
        "id": "KELZFyjbalYK"
      },
      "execution_count": 1,
      "outputs": []
    },
    {
      "cell_type": "code",
      "execution_count": 2,
      "metadata": {
        "colab": {
          "base_uri": "https://localhost:8080/"
        },
        "id": "OJ2uIbVzaX0i",
        "outputId": "5e7301fd-d044-4c90-ba6e-0002ed75ef1c"
      },
      "outputs": [
        {
          "output_type": "stream",
          "name": "stdout",
          "text": [
            "False\n",
            "Using cpu device\n"
          ]
        }
      ],
      "source": [
        "import torch\n",
        "print(torch.cuda.is_available())\n",
        "\n",
        "device = \"cuda\" if torch.cuda.is_available() else \"cpu\"\n",
        "print(f\"Using {device} device\")"
      ]
    },
    {
      "cell_type": "code",
      "source": [
        "!wget -O part_transformer.h5 \"https://cernbox.cern.ch/s/4rtGlo1RlFvUNwz/download/\""
      ],
      "metadata": {
        "colab": {
          "base_uri": "https://localhost:8080/"
        },
        "id": "DffWscR9a50d",
        "outputId": "cba7be95-80ff-4662-9c37-27b89c776f33"
      },
      "execution_count": 4,
      "outputs": [
        {
          "output_type": "stream",
          "name": "stdout",
          "text": [
            "--2025-07-29 20:51:12--  https://cernbox.cern.ch/s/4rtGlo1RlFvUNwz/download/\n",
            "Resolving cernbox.cern.ch (cernbox.cern.ch)... 128.142.53.35, 128.142.53.28, 137.138.120.151, ...\n",
            "Connecting to cernbox.cern.ch (cernbox.cern.ch)|128.142.53.35|:443... connected.\n",
            "HTTP request sent, awaiting response... 200 OK\n",
            "Length: unspecified [application/octet-stream]\n",
            "Saving to: ‘part_transformer.h5’\n",
            "\n",
            "part_transformer.h5     [         <=>        ] 333.07M  4.45MB/s    in 5m 14s  \n",
            "\n",
            "2025-07-29 20:56:27 (1.06 MB/s) - ‘part_transformer.h5’ saved [349254496]\n",
            "\n"
          ]
        }
      ]
    },
    {
      "cell_type": "code",
      "source": [
        "with h5py.File(\"part_transformer.h5\",\"r\") as f:\n",
        "  signal_data = f[\"signal\"][:]\n",
        "  bkg_data = f[\"bkg\"][:]"
      ],
      "metadata": {
        "id": "1fG6JlojbCsh"
      },
      "execution_count": 4,
      "outputs": []
    },
    {
      "cell_type": "code",
      "source": [
        "signal = structured_to_unstructured(signal_data)\n",
        "background = structured_to_unstructured(bkg_data)"
      ],
      "metadata": {
        "id": "xOS5n_PhayrI"
      },
      "execution_count": 5,
      "outputs": []
    },
    {
      "cell_type": "markdown",
      "source": [
        "# Task starts here\n",
        "* Concatenate the signal and background features into one array, and assign the appropriate target labels\n",
        "* Split into training and testing datasets\n",
        "* Scale the data ot some senisble scale\n",
        "* Build a model which has 1) an MLP to embed the 5 features in some larger space 2) some transformer encoder layers 3) a pooling layer to condense the information in 1D format 4) a final MLP for the final classification\n",
        "* Proceed with training (I only used the training dataset and used the test dataset solely for comparison at the end, with no validation dataset).\n",
        "\n",
        "## Important\n",
        "My transformer had 2 encoder layers with 2 attention heads, a batch size of 4096, a learning rate of 0.001, and trained for 20 epochs. It took about one minute per epoch to train. Making your transformer larger than this will increase the training time."
      ],
      "metadata": {
        "id": "_OQS2bWg8zEw"
      }
    },
    {
      "cell_type": "code",
      "source": [
        "X = np.concatenate([signal,background])\n",
        "X.shape #Already in the transformer shape we need i.e. Ndata x Ntokens x Nfeatures"
      ],
      "metadata": {
        "colab": {
          "base_uri": "https://localhost:8080/"
        },
        "id": "yY4RsTnpbgzR",
        "outputId": "b6996c17-b2d9-481c-ea07-83ec8864d8fa"
      },
      "execution_count": 6,
      "outputs": [
        {
          "output_type": "execute_result",
          "data": {
            "text/plain": [
              "(873126, 20, 5)"
            ]
          },
          "metadata": {},
          "execution_count": 6
        }
      ]
    },
    {
      "cell_type": "code",
      "source": [
        "target = np.concatenate([np.ones(signal.shape[0]), np.zeros(background.shape[0])], axis=0)\n"
      ],
      "metadata": {
        "id": "aInz47jQbQdU"
      },
      "execution_count": 7,
      "outputs": []
    },
    {
      "cell_type": "code",
      "source": [
        "from sklearn.model_selection import train_test_split\n",
        "X_train, X_test, Y_train, Y_test = train_test_split(X, target, test_size=0.15, random_state=42)"
      ],
      "metadata": {
        "id": "7zkmhMdFbZSO"
      },
      "execution_count": 8,
      "outputs": []
    },
    {
      "cell_type": "code",
      "source": [
        "# Use sklearn standard scaler to scale the data\n",
        "from sklearn.preprocessing import StandardScaler\n",
        "scaler = StandardScaler()\n",
        "scaler.fit(X_train.reshape(-1, 4))\n",
        "X_scaled = scaler.transform(X_train.reshape(-1, 4))\n",
        "X_scaled = X_scaled.reshape(X_train.shape)\n",
        "X_test_scaled = scaler.transform(X_test.reshape(-1, 4))\n",
        "X_test_scaled = X_test_scaled.reshape(X_test.shape)"
      ],
      "metadata": {
        "id": "n0IFeTmdbb4z"
      },
      "execution_count": 9,
      "outputs": []
    },
    {
      "cell_type": "code",
      "source": [
        "X_train_tensor = torch.tensor(X_scaled,dtype=torch.float32,device=device)\n",
        "X_test_tensor = torch.tensor(X_test_scaled,dtype=torch.float32,device=device)\n",
        "\n",
        "Y_train_tensor = torch.tensor(Y_train.reshape(-1,1), dtype=torch.float32,device=device)\n",
        "Y_test_tensor = torch.tensor(Y_test.reshape(-1,1), dtype=torch.float32,device=device)"
      ],
      "metadata": {
        "id": "jJJQbVYPboF8"
      },
      "execution_count": 10,
      "outputs": []
    },
    {
      "cell_type": "code",
      "source": [
        "import torch.nn as nn\n",
        "import torch.nn.functional as F\n",
        "\n",
        "class JetTransformer(nn.Module):\n",
        "\n",
        "    \"\"\"\n",
        "    Transformer model for jet classification\n",
        "    First step is an embedder for particles\n",
        "    Next step is a set of transformer layers\n",
        "    Last step is a classifier head\n",
        "    \"\"\"\n",
        "\n",
        "    def __init__(self, input_dim, nhead, num_layers):\n",
        "        super(JetTransformer, self).__init__()\n",
        "\n",
        "        # Input embedding MLP\n",
        "        self.input_embedder = nn.Sequential(\n",
        "            nn.Linear(input_dim, 16),\n",
        "            nn.ReLU(),\n",
        "            nn.Linear(16, 32),\n",
        "        )\n",
        "        # Transformer Encoder - made of TransformerEncoderLayers\n",
        "        self.transformer_encoder = nn.TransformerEncoder(\n",
        "            nn.TransformerEncoderLayer(d_model=32, nhead=nhead,batch_first=True),\n",
        "            num_layers=num_layers, enable_nested_tensor=False)\n",
        "\n",
        "        # Output classifier MLP\n",
        "        self.output_classifier_head = nn.Sequential(\n",
        "            nn.Linear(32, 16),\n",
        "            nn.ReLU(),\n",
        "            nn.Linear(16, 1))\n",
        "\n",
        "    def mean_pooling(self,x):\n",
        "        \"\"\"\n",
        "        Mean pooling implementation\n",
        "        \"\"\"\n",
        "        # x: (batch_size, num_tokens, embed_dim)\n",
        "        return x.mean(dim=1)\n",
        "\n",
        "\n",
        "    def forward(self, x):\n",
        "        x = self.input_embedder(x)\n",
        "        x = self.transformer_encoder(x)\n",
        "        x = self.mean_pooling(x)\n",
        "        x = self.output_classifier_head(x)\n",
        "        return torch.sigmoid(x)"
      ],
      "metadata": {
        "id": "aj9nYP8Wbys7"
      },
      "execution_count": 11,
      "outputs": []
    },
    {
      "cell_type": "code",
      "source": [
        "model = JetTransformer(input_dim=5, nhead=2, num_layers=2)\n",
        "model = model.to(device)"
      ],
      "metadata": {
        "id": "rp_0YujHchiK"
      },
      "execution_count": 17,
      "outputs": []
    },
    {
      "cell_type": "code",
      "source": [
        "# Load the train and test datasets in TensorDataset\n",
        "from torch.utils.data import TensorDataset, DataLoader\n",
        "train_dataset = TensorDataset(X_train_tensor, Y_train_tensor)\n",
        "test_dataset = TensorDataset(X_test_tensor, Y_test_tensor)\n",
        "# Dataloaders\n",
        "train_loader = DataLoader(train_dataset, batch_size=8192, shuffle=True)\n",
        "test_loader = DataLoader(test_dataset, batch_size=8192, shuffle=False)"
      ],
      "metadata": {
        "id": "CzNna_PAckVQ"
      },
      "execution_count": 18,
      "outputs": []
    },
    {
      "cell_type": "code",
      "source": [
        "# Define optimiser and loss function\n",
        "optimizer = torch.optim.Adam(model.parameters(), lr=0.001)\n",
        "criterion = nn.BCELoss()\n"
      ],
      "metadata": {
        "id": "RZM2QL91cmG_"
      },
      "execution_count": 19,
      "outputs": []
    },
    {
      "cell_type": "code",
      "source": [
        "# Training loop with training data only\n",
        "print(\"Beginning training loop\")\n",
        "\n",
        "train_losses = []\n",
        "val_losses = []\n",
        "\n",
        "num_epochs = 30\n",
        "for epoch in range(num_epochs):\n",
        "    model.train()\n",
        "    running_loss = 0.0\n",
        "    for inputs, targets in train_loader:\n",
        "        optimizer.zero_grad()\n",
        "        outputs = model(inputs)\n",
        "        loss = criterion(outputs, targets)\n",
        "        loss.backward()\n",
        "        optimizer.step()\n",
        "        running_loss += loss.item()\n",
        "\n",
        "    avg_loss = running_loss / len(train_loader)\n",
        "    train_losses.append(avg_loss)\n",
        "    print(f\"Epoch {epoch+1}/{num_epochs}, Train Loss: {avg_loss:.4f}\")\n",
        "    torch.cuda.empty_cache()"
      ],
      "metadata": {
        "colab": {
          "base_uri": "https://localhost:8080/",
          "height": 591
        },
        "id": "U7sGx_dRczHm",
        "outputId": "4c58a8ac-5bee-4a11-a192-6774e2df746d"
      },
      "execution_count": 20,
      "outputs": [
        {
          "output_type": "stream",
          "name": "stdout",
          "text": [
            "Beginning training loop\n",
            "Epoch 1/30, Train Loss: 0.4316\n",
            "Epoch 2/30, Train Loss: 0.3153\n",
            "Epoch 3/30, Train Loss: 0.3055\n",
            "Epoch 4/30, Train Loss: 0.3004\n",
            "Epoch 5/30, Train Loss: 0.2971\n",
            "Epoch 6/30, Train Loss: 0.2948\n",
            "Epoch 7/30, Train Loss: 0.2927\n",
            "Epoch 8/30, Train Loss: 0.2917\n",
            "Epoch 9/30, Train Loss: 0.2913\n",
            "Epoch 10/30, Train Loss: 0.2888\n",
            "Epoch 11/30, Train Loss: 0.2887\n",
            "Epoch 12/30, Train Loss: 0.2868\n",
            "Epoch 13/30, Train Loss: 0.2842\n",
            "Epoch 14/30, Train Loss: 0.2766\n",
            "Epoch 15/30, Train Loss: 0.2660\n",
            "Epoch 16/30, Train Loss: 0.2591\n",
            "Epoch 17/30, Train Loss: 0.2525\n",
            "Epoch 18/30, Train Loss: 0.2498\n",
            "Epoch 19/30, Train Loss: 0.2465\n",
            "Epoch 20/30, Train Loss: 0.2422\n"
          ]
        },
        {
          "output_type": "error",
          "ename": "KeyboardInterrupt",
          "evalue": "",
          "traceback": [
            "\u001b[0;31m---------------------------------------------------------------------------\u001b[0m",
            "\u001b[0;31mKeyboardInterrupt\u001b[0m                         Traceback (most recent call last)",
            "\u001b[0;32m/tmp/ipython-input-20-2289178886.py\u001b[0m in \u001b[0;36m<cell line: 0>\u001b[0;34m()\u001b[0m\n\u001b[1;32m     15\u001b[0m         \u001b[0mloss\u001b[0m\u001b[0;34m.\u001b[0m\u001b[0mbackward\u001b[0m\u001b[0;34m(\u001b[0m\u001b[0;34m)\u001b[0m\u001b[0;34m\u001b[0m\u001b[0;34m\u001b[0m\u001b[0m\n\u001b[1;32m     16\u001b[0m         \u001b[0moptimizer\u001b[0m\u001b[0;34m.\u001b[0m\u001b[0mstep\u001b[0m\u001b[0;34m(\u001b[0m\u001b[0;34m)\u001b[0m\u001b[0;34m\u001b[0m\u001b[0;34m\u001b[0m\u001b[0m\n\u001b[0;32m---> 17\u001b[0;31m         \u001b[0mrunning_loss\u001b[0m \u001b[0;34m+=\u001b[0m \u001b[0mloss\u001b[0m\u001b[0;34m.\u001b[0m\u001b[0mitem\u001b[0m\u001b[0;34m(\u001b[0m\u001b[0;34m)\u001b[0m\u001b[0;34m\u001b[0m\u001b[0;34m\u001b[0m\u001b[0m\n\u001b[0m\u001b[1;32m     18\u001b[0m \u001b[0;34m\u001b[0m\u001b[0m\n\u001b[1;32m     19\u001b[0m     \u001b[0mavg_loss\u001b[0m \u001b[0;34m=\u001b[0m \u001b[0mrunning_loss\u001b[0m \u001b[0;34m/\u001b[0m \u001b[0mlen\u001b[0m\u001b[0;34m(\u001b[0m\u001b[0mtrain_loader\u001b[0m\u001b[0;34m)\u001b[0m\u001b[0;34m\u001b[0m\u001b[0;34m\u001b[0m\u001b[0m\n",
            "\u001b[0;31mKeyboardInterrupt\u001b[0m: "
          ]
        }
      ]
    },
    {
      "cell_type": "code",
      "source": [
        "# Plot loss\n",
        "import matplotlib.pyplot as plt\n",
        "plt.plot(train_losses, label='Train Loss')\n",
        "plt.xlabel('Epoch')\n",
        "plt.ylabel('Loss')\n",
        "plt.legend()\n",
        "plt.show()"
      ],
      "metadata": {
        "colab": {
          "base_uri": "https://localhost:8080/",
          "height": 449
        },
        "id": "SVF_ZY8_lDXm",
        "outputId": "fdbbe917-4c8b-4508-998a-31da47b80ad8"
      },
      "execution_count": 21,
      "outputs": [
        {
          "output_type": "display_data",
          "data": {
            "text/plain": [
              "<Figure size 640x480 with 1 Axes>"
            ],
            "image/png": "[encoded data removed]"
          },
          "metadata": {}
        }
      ]
    },
    {
      "cell_type": "code",
      "source": [
        "# Evaluate by looping over the test_dataset\n",
        "model.eval()\n",
        "list_of_predictions = []\n",
        "with torch.no_grad():\n",
        "    for inputs, targets in test_loader:\n",
        "        inputs, targets = inputs.to(device), targets.to(device)  # if using GPU\n",
        "\n",
        "        outputs = model(inputs)\n",
        "        list_of_predictions.append(outputs)\n",
        "        loss = criterion(outputs, targets)"
      ],
      "metadata": {
        "id": "q8lAV5NudCC-"
      },
      "execution_count": 22,
      "outputs": []
    },
    {
      "cell_type": "code",
      "source": [
        "pred = torch.concatenate(list_of_predictions)\n",
        "Y_pred = torch.round(pred).detach().cpu().numpy()\n",
        "\n",
        "from sklearn.metrics import roc_auc_score\n",
        "print(roc_auc_score(Y_test.reshape(-1,1),Y_pred))"
      ],
      "metadata": {
        "colab": {
          "base_uri": "https://localhost:8080/"
        },
        "id": "MrASy0TKdVxK",
        "outputId": "7de89f1a-02fa-4352-d235-05b7321dea5d"
      },
      "execution_count": 23,
      "outputs": [
        {
          "output_type": "stream",
          "name": "stdout",
          "text": [
            "0.9024507452160863\n"
          ]
        }
      ]
    },
    {
      "cell_type": "code",
      "source": [],
      "metadata": {
        "id": "YNfppId9lHTr"
      },
      "execution_count": null,
      "outputs": []
    }
  ]
}